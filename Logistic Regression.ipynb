{
 "cells": [
  {
   "cell_type": "markdown",
   "id": "1b750e54",
   "metadata": {
    "ExecuteTime": {
     "end_time": "2023-01-03T10:01:17.203531Z",
     "start_time": "2023-01-03T10:01:15.526001Z"
    }
   },
   "source": [
    "# Problem statement\n",
    "\n",
    "- Goal is to create a model which will be able to predict all positive class as positive only."
   ]
  },
  {
   "cell_type": "code",
   "execution_count": null,
   "id": "4b58761f",
   "metadata": {},
   "outputs": [],
   "source": [
    "import pandas as pd \n",
    "import numpy as np\n",
    "import matplotlib.pyplot as plt\n",
    "import seaborn as sns\n",
    "%matplotlib inline\n",
    "\n",
    "import warnings\n",
    "warnings.filterwarnings('ignore')"
   ]
  },
  {
   "cell_type": "code",
   "execution_count": 2,
   "id": "0361f373",
   "metadata": {
    "ExecuteTime": {
     "end_time": "2023-01-03T10:01:17.282095Z",
     "start_time": "2023-01-03T10:01:17.203531Z"
    }
   },
   "outputs": [
    {
     "data": {
      "text/html": [
       "<div>\n",
       "<style scoped>\n",
       "    .dataframe tbody tr th:only-of-type {\n",
       "        vertical-align: middle;\n",
       "    }\n",
       "\n",
       "    .dataframe tbody tr th {\n",
       "        vertical-align: top;\n",
       "    }\n",
       "\n",
       "    .dataframe thead th {\n",
       "        text-align: right;\n",
       "    }\n",
       "</style>\n",
       "<table border=\"1\" class=\"dataframe\">\n",
       "  <thead>\n",
       "    <tr style=\"text-align: right;\">\n",
       "      <th></th>\n",
       "      <th>Unnamed: 0</th>\n",
       "      <th>CASENUM</th>\n",
       "      <th>ATTORNEY</th>\n",
       "      <th>CLMSEX</th>\n",
       "      <th>CLMINSUR</th>\n",
       "      <th>SEATBELT</th>\n",
       "      <th>CLMAGE</th>\n",
       "      <th>LOSS</th>\n",
       "    </tr>\n",
       "  </thead>\n",
       "  <tbody>\n",
       "    <tr>\n",
       "      <th>0</th>\n",
       "      <td>0</td>\n",
       "      <td>5</td>\n",
       "      <td>1</td>\n",
       "      <td>0.0</td>\n",
       "      <td>1.0</td>\n",
       "      <td>0.0</td>\n",
       "      <td>50.0</td>\n",
       "      <td>34.940</td>\n",
       "    </tr>\n",
       "    <tr>\n",
       "      <th>1</th>\n",
       "      <td>1</td>\n",
       "      <td>3</td>\n",
       "      <td>0</td>\n",
       "      <td>1.0</td>\n",
       "      <td>0.0</td>\n",
       "      <td>0.0</td>\n",
       "      <td>18.0</td>\n",
       "      <td>0.891</td>\n",
       "    </tr>\n",
       "    <tr>\n",
       "      <th>2</th>\n",
       "      <td>2</td>\n",
       "      <td>66</td>\n",
       "      <td>0</td>\n",
       "      <td>0.0</td>\n",
       "      <td>1.0</td>\n",
       "      <td>0.0</td>\n",
       "      <td>5.0</td>\n",
       "      <td>0.330</td>\n",
       "    </tr>\n",
       "    <tr>\n",
       "      <th>3</th>\n",
       "      <td>3</td>\n",
       "      <td>70</td>\n",
       "      <td>1</td>\n",
       "      <td>0.0</td>\n",
       "      <td>1.0</td>\n",
       "      <td>1.0</td>\n",
       "      <td>31.0</td>\n",
       "      <td>0.037</td>\n",
       "    </tr>\n",
       "    <tr>\n",
       "      <th>4</th>\n",
       "      <td>4</td>\n",
       "      <td>96</td>\n",
       "      <td>0</td>\n",
       "      <td>0.0</td>\n",
       "      <td>1.0</td>\n",
       "      <td>0.0</td>\n",
       "      <td>30.0</td>\n",
       "      <td>0.038</td>\n",
       "    </tr>\n",
       "    <tr>\n",
       "      <th>...</th>\n",
       "      <td>...</td>\n",
       "      <td>...</td>\n",
       "      <td>...</td>\n",
       "      <td>...</td>\n",
       "      <td>...</td>\n",
       "      <td>...</td>\n",
       "      <td>...</td>\n",
       "      <td>...</td>\n",
       "    </tr>\n",
       "    <tr>\n",
       "      <th>1335</th>\n",
       "      <td>1335</td>\n",
       "      <td>34100</td>\n",
       "      <td>0</td>\n",
       "      <td>0.0</td>\n",
       "      <td>1.0</td>\n",
       "      <td>0.0</td>\n",
       "      <td>NaN</td>\n",
       "      <td>0.576</td>\n",
       "    </tr>\n",
       "    <tr>\n",
       "      <th>1336</th>\n",
       "      <td>1336</td>\n",
       "      <td>34110</td>\n",
       "      <td>1</td>\n",
       "      <td>1.0</td>\n",
       "      <td>1.0</td>\n",
       "      <td>0.0</td>\n",
       "      <td>46.0</td>\n",
       "      <td>3.705</td>\n",
       "    </tr>\n",
       "    <tr>\n",
       "      <th>1337</th>\n",
       "      <td>1337</td>\n",
       "      <td>34113</td>\n",
       "      <td>0</td>\n",
       "      <td>1.0</td>\n",
       "      <td>1.0</td>\n",
       "      <td>0.0</td>\n",
       "      <td>39.0</td>\n",
       "      <td>0.099</td>\n",
       "    </tr>\n",
       "    <tr>\n",
       "      <th>1338</th>\n",
       "      <td>1338</td>\n",
       "      <td>34145</td>\n",
       "      <td>1</td>\n",
       "      <td>1.0</td>\n",
       "      <td>0.0</td>\n",
       "      <td>0.0</td>\n",
       "      <td>8.0</td>\n",
       "      <td>3.177</td>\n",
       "    </tr>\n",
       "    <tr>\n",
       "      <th>1339</th>\n",
       "      <td>1339</td>\n",
       "      <td>34153</td>\n",
       "      <td>0</td>\n",
       "      <td>1.0</td>\n",
       "      <td>1.0</td>\n",
       "      <td>0.0</td>\n",
       "      <td>30.0</td>\n",
       "      <td>0.688</td>\n",
       "    </tr>\n",
       "  </tbody>\n",
       "</table>\n",
       "<p>1340 rows × 8 columns</p>\n",
       "</div>"
      ],
      "text/plain": [
       "      Unnamed: 0  CASENUM  ATTORNEY  CLMSEX  CLMINSUR  SEATBELT  CLMAGE  \\\n",
       "0              0        5         1     0.0       1.0       0.0    50.0   \n",
       "1              1        3         0     1.0       0.0       0.0    18.0   \n",
       "2              2       66         0     0.0       1.0       0.0     5.0   \n",
       "3              3       70         1     0.0       1.0       1.0    31.0   \n",
       "4              4       96         0     0.0       1.0       0.0    30.0   \n",
       "...          ...      ...       ...     ...       ...       ...     ...   \n",
       "1335        1335    34100         0     0.0       1.0       0.0     NaN   \n",
       "1336        1336    34110         1     1.0       1.0       0.0    46.0   \n",
       "1337        1337    34113         0     1.0       1.0       0.0    39.0   \n",
       "1338        1338    34145         1     1.0       0.0       0.0     8.0   \n",
       "1339        1339    34153         0     1.0       1.0       0.0    30.0   \n",
       "\n",
       "        LOSS  \n",
       "0     34.940  \n",
       "1      0.891  \n",
       "2      0.330  \n",
       "3      0.037  \n",
       "4      0.038  \n",
       "...      ...  \n",
       "1335   0.576  \n",
       "1336   3.705  \n",
       "1337   0.099  \n",
       "1338   3.177  \n",
       "1339   0.688  \n",
       "\n",
       "[1340 rows x 8 columns]"
      ]
     },
     "execution_count": 2,
     "metadata": {},
     "output_type": "execute_result"
    }
   ],
   "source": [
    "df = pd.read_csv('Client.csv')\n",
    "df"
   ]
  },
  {
   "cell_type": "markdown",
   "id": "d10ff6ce",
   "metadata": {},
   "source": [
    "# EDA"
   ]
  },
  {
   "cell_type": "code",
   "execution_count": 3,
   "id": "f0e218e0",
   "metadata": {
    "ExecuteTime": {
     "end_time": "2023-01-03T10:01:17.299179Z",
     "start_time": "2023-01-03T10:01:17.282354Z"
    }
   },
   "outputs": [],
   "source": [
    "df.drop(columns = ['Unnamed: 0','CASENUM'], inplace = True)"
   ]
  },
  {
   "cell_type": "code",
   "execution_count": 4,
   "id": "1913060f",
   "metadata": {
    "ExecuteTime": {
     "end_time": "2023-01-03T10:01:17.315845Z",
     "start_time": "2023-01-03T10:01:17.299801Z"
    }
   },
   "outputs": [
    {
     "data": {
      "text/html": [
       "<div>\n",
       "<style scoped>\n",
       "    .dataframe tbody tr th:only-of-type {\n",
       "        vertical-align: middle;\n",
       "    }\n",
       "\n",
       "    .dataframe tbody tr th {\n",
       "        vertical-align: top;\n",
       "    }\n",
       "\n",
       "    .dataframe thead th {\n",
       "        text-align: right;\n",
       "    }\n",
       "</style>\n",
       "<table border=\"1\" class=\"dataframe\">\n",
       "  <thead>\n",
       "    <tr style=\"text-align: right;\">\n",
       "      <th></th>\n",
       "      <th>ATTORNEY</th>\n",
       "      <th>CLMSEX</th>\n",
       "      <th>CLMINSUR</th>\n",
       "      <th>SEATBELT</th>\n",
       "      <th>CLMAGE</th>\n",
       "      <th>LOSS</th>\n",
       "    </tr>\n",
       "  </thead>\n",
       "  <tbody>\n",
       "    <tr>\n",
       "      <th>0</th>\n",
       "      <td>1</td>\n",
       "      <td>0.0</td>\n",
       "      <td>1.0</td>\n",
       "      <td>0.0</td>\n",
       "      <td>50.0</td>\n",
       "      <td>34.940</td>\n",
       "    </tr>\n",
       "    <tr>\n",
       "      <th>1</th>\n",
       "      <td>0</td>\n",
       "      <td>1.0</td>\n",
       "      <td>0.0</td>\n",
       "      <td>0.0</td>\n",
       "      <td>18.0</td>\n",
       "      <td>0.891</td>\n",
       "    </tr>\n",
       "    <tr>\n",
       "      <th>2</th>\n",
       "      <td>0</td>\n",
       "      <td>0.0</td>\n",
       "      <td>1.0</td>\n",
       "      <td>0.0</td>\n",
       "      <td>5.0</td>\n",
       "      <td>0.330</td>\n",
       "    </tr>\n",
       "    <tr>\n",
       "      <th>3</th>\n",
       "      <td>1</td>\n",
       "      <td>0.0</td>\n",
       "      <td>1.0</td>\n",
       "      <td>1.0</td>\n",
       "      <td>31.0</td>\n",
       "      <td>0.037</td>\n",
       "    </tr>\n",
       "    <tr>\n",
       "      <th>4</th>\n",
       "      <td>0</td>\n",
       "      <td>0.0</td>\n",
       "      <td>1.0</td>\n",
       "      <td>0.0</td>\n",
       "      <td>30.0</td>\n",
       "      <td>0.038</td>\n",
       "    </tr>\n",
       "  </tbody>\n",
       "</table>\n",
       "</div>"
      ],
      "text/plain": [
       "   ATTORNEY  CLMSEX  CLMINSUR  SEATBELT  CLMAGE    LOSS\n",
       "0         1     0.0       1.0       0.0    50.0  34.940\n",
       "1         0     1.0       0.0       0.0    18.0   0.891\n",
       "2         0     0.0       1.0       0.0     5.0   0.330\n",
       "3         1     0.0       1.0       1.0    31.0   0.037\n",
       "4         0     0.0       1.0       0.0    30.0   0.038"
      ]
     },
     "execution_count": 4,
     "metadata": {},
     "output_type": "execute_result"
    }
   ],
   "source": [
    "df.head()"
   ]
  },
  {
   "cell_type": "code",
   "execution_count": 5,
   "id": "1c14ae7e",
   "metadata": {
    "ExecuteTime": {
     "end_time": "2023-01-03T10:01:17.336223Z",
     "start_time": "2023-01-03T10:01:17.317628Z"
    }
   },
   "outputs": [
    {
     "data": {
      "text/plain": [
       "ATTORNEY      0\n",
       "CLMSEX       12\n",
       "CLMINSUR     41\n",
       "SEATBELT     48\n",
       "CLMAGE      189\n",
       "LOSS          0\n",
       "dtype: int64"
      ]
     },
     "execution_count": 5,
     "metadata": {},
     "output_type": "execute_result"
    }
   ],
   "source": [
    "df.isna().sum()"
   ]
  },
  {
   "cell_type": "markdown",
   "id": "da47ba87",
   "metadata": {},
   "source": [
    "# Missing value imputation"
   ]
  },
  {
   "cell_type": "code",
   "execution_count": 6,
   "id": "68372e30",
   "metadata": {
    "ExecuteTime": {
     "end_time": "2023-01-03T10:01:17.574074Z",
     "start_time": "2023-01-03T10:01:17.336223Z"
    }
   },
   "outputs": [],
   "source": [
    "from sklearn.impute import SimpleImputer"
   ]
  },
  {
   "cell_type": "code",
   "execution_count": 26,
   "id": "643454fe",
   "metadata": {
    "ExecuteTime": {
     "end_time": "2023-01-03T10:12:13.189908Z",
     "start_time": "2023-01-03T10:12:13.149649Z"
    }
   },
   "outputs": [],
   "source": [
    "df.iloc[:,1:4] = si.fit_transform(df.iloc[:,1:4])"
   ]
  },
  {
   "cell_type": "code",
   "execution_count": 27,
   "id": "29e1b4df",
   "metadata": {
    "ExecuteTime": {
     "end_time": "2023-01-03T10:12:15.405535Z",
     "start_time": "2023-01-03T10:12:15.375307Z"
    }
   },
   "outputs": [
    {
     "data": {
      "text/plain": [
       "ATTORNEY    0\n",
       "CLMSEX      0\n",
       "CLMINSUR    0\n",
       "SEATBELT    0\n",
       "CLMAGE      0\n",
       "LOSS        0\n",
       "dtype: int64"
      ]
     },
     "execution_count": 27,
     "metadata": {},
     "output_type": "execute_result"
    }
   ],
   "source": [
    "df.isna().sum()"
   ]
  },
  {
   "cell_type": "code",
   "execution_count": 10,
   "id": "30d723f8",
   "metadata": {
    "ExecuteTime": {
     "end_time": "2023-01-03T10:01:17.638658Z",
     "start_time": "2023-01-03T10:01:17.622549Z"
    }
   },
   "outputs": [],
   "source": [
    "df['CLMAGE'].fillna(df['CLMAGE'].mean(), inplace = True)"
   ]
  },
  {
   "cell_type": "code",
   "execution_count": 11,
   "id": "b3231416",
   "metadata": {
    "ExecuteTime": {
     "end_time": "2023-01-03T10:01:17.654997Z",
     "start_time": "2023-01-03T10:01:17.638880Z"
    }
   },
   "outputs": [
    {
     "data": {
      "text/plain": [
       "ATTORNEY    0\n",
       "CLMSEX      0\n",
       "CLMINSUR    0\n",
       "SEATBELT    0\n",
       "CLMAGE      0\n",
       "LOSS        0\n",
       "dtype: int64"
      ]
     },
     "execution_count": 11,
     "metadata": {},
     "output_type": "execute_result"
    }
   ],
   "source": [
    "df.isna().sum()"
   ]
  },
  {
   "cell_type": "markdown",
   "id": "99026b70",
   "metadata": {},
   "source": [
    "# Splitting the data into training and testing set"
   ]
  },
  {
   "cell_type": "code",
   "execution_count": 21,
   "id": "230b4e06",
   "metadata": {
    "ExecuteTime": {
     "end_time": "2023-01-03T10:05:55.686723Z",
     "start_time": "2023-01-03T10:05:55.671062Z"
    }
   },
   "outputs": [],
   "source": [
    "from sklearn.model_selection import train_test_split"
   ]
  },
  {
   "cell_type": "code",
   "execution_count": 22,
   "id": "b86cb018",
   "metadata": {
    "ExecuteTime": {
     "end_time": "2023-01-03T10:06:02.299902Z",
     "start_time": "2023-01-03T10:06:02.284818Z"
    }
   },
   "outputs": [],
   "source": [
    "x = df.iloc[:,1:]\n",
    "y = df['ATTORNEY']"
   ]
  },
  {
   "cell_type": "code",
   "execution_count": 28,
   "id": "839655a9",
   "metadata": {
    "ExecuteTime": {
     "end_time": "2023-01-03T10:14:25.622562Z",
     "start_time": "2023-01-03T10:14:25.602994Z"
    }
   },
   "outputs": [],
   "source": [
    "xtrain, xtest, ytrain, ytest = train_test_split(x,y, train_size = 0.75, random_state = 1)"
   ]
  },
  {
   "cell_type": "code",
   "execution_count": 29,
   "id": "bb64e04c",
   "metadata": {
    "ExecuteTime": {
     "end_time": "2023-01-03T10:14:44.378927Z",
     "start_time": "2023-01-03T10:14:44.338535Z"
    }
   },
   "outputs": [
    {
     "data": {
      "text/html": [
       "<div>\n",
       "<style scoped>\n",
       "    .dataframe tbody tr th:only-of-type {\n",
       "        vertical-align: middle;\n",
       "    }\n",
       "\n",
       "    .dataframe tbody tr th {\n",
       "        vertical-align: top;\n",
       "    }\n",
       "\n",
       "    .dataframe thead th {\n",
       "        text-align: right;\n",
       "    }\n",
       "</style>\n",
       "<table border=\"1\" class=\"dataframe\">\n",
       "  <thead>\n",
       "    <tr style=\"text-align: right;\">\n",
       "      <th></th>\n",
       "      <th>CLMSEX</th>\n",
       "      <th>CLMINSUR</th>\n",
       "      <th>SEATBELT</th>\n",
       "      <th>CLMAGE</th>\n",
       "      <th>LOSS</th>\n",
       "    </tr>\n",
       "  </thead>\n",
       "  <tbody>\n",
       "    <tr>\n",
       "      <th>1045</th>\n",
       "      <td>1.0</td>\n",
       "      <td>1.0</td>\n",
       "      <td>0.0</td>\n",
       "      <td>37.000000</td>\n",
       "      <td>0.935</td>\n",
       "    </tr>\n",
       "    <tr>\n",
       "      <th>969</th>\n",
       "      <td>0.0</td>\n",
       "      <td>1.0</td>\n",
       "      <td>0.0</td>\n",
       "      <td>14.000000</td>\n",
       "      <td>10.869</td>\n",
       "    </tr>\n",
       "    <tr>\n",
       "      <th>594</th>\n",
       "      <td>1.0</td>\n",
       "      <td>1.0</td>\n",
       "      <td>0.0</td>\n",
       "      <td>43.000000</td>\n",
       "      <td>0.007</td>\n",
       "    </tr>\n",
       "    <tr>\n",
       "      <th>1081</th>\n",
       "      <td>1.0</td>\n",
       "      <td>1.0</td>\n",
       "      <td>0.0</td>\n",
       "      <td>77.000000</td>\n",
       "      <td>1.000</td>\n",
       "    </tr>\n",
       "    <tr>\n",
       "      <th>1053</th>\n",
       "      <td>1.0</td>\n",
       "      <td>1.0</td>\n",
       "      <td>0.0</td>\n",
       "      <td>58.000000</td>\n",
       "      <td>9.485</td>\n",
       "    </tr>\n",
       "    <tr>\n",
       "      <th>...</th>\n",
       "      <td>...</td>\n",
       "      <td>...</td>\n",
       "      <td>...</td>\n",
       "      <td>...</td>\n",
       "      <td>...</td>\n",
       "    </tr>\n",
       "    <tr>\n",
       "      <th>715</th>\n",
       "      <td>0.0</td>\n",
       "      <td>1.0</td>\n",
       "      <td>0.0</td>\n",
       "      <td>13.000000</td>\n",
       "      <td>6.979</td>\n",
       "    </tr>\n",
       "    <tr>\n",
       "      <th>905</th>\n",
       "      <td>0.0</td>\n",
       "      <td>1.0</td>\n",
       "      <td>0.0</td>\n",
       "      <td>28.414422</td>\n",
       "      <td>3.330</td>\n",
       "    </tr>\n",
       "    <tr>\n",
       "      <th>1096</th>\n",
       "      <td>0.0</td>\n",
       "      <td>1.0</td>\n",
       "      <td>0.0</td>\n",
       "      <td>50.000000</td>\n",
       "      <td>3.095</td>\n",
       "    </tr>\n",
       "    <tr>\n",
       "      <th>235</th>\n",
       "      <td>1.0</td>\n",
       "      <td>1.0</td>\n",
       "      <td>0.0</td>\n",
       "      <td>17.000000</td>\n",
       "      <td>1.619</td>\n",
       "    </tr>\n",
       "    <tr>\n",
       "      <th>1061</th>\n",
       "      <td>1.0</td>\n",
       "      <td>1.0</td>\n",
       "      <td>0.0</td>\n",
       "      <td>47.000000</td>\n",
       "      <td>0.480</td>\n",
       "    </tr>\n",
       "  </tbody>\n",
       "</table>\n",
       "<p>1005 rows × 5 columns</p>\n",
       "</div>"
      ],
      "text/plain": [
       "      CLMSEX  CLMINSUR  SEATBELT     CLMAGE    LOSS\n",
       "1045     1.0       1.0       0.0  37.000000   0.935\n",
       "969      0.0       1.0       0.0  14.000000  10.869\n",
       "594      1.0       1.0       0.0  43.000000   0.007\n",
       "1081     1.0       1.0       0.0  77.000000   1.000\n",
       "1053     1.0       1.0       0.0  58.000000   9.485\n",
       "...      ...       ...       ...        ...     ...\n",
       "715      0.0       1.0       0.0  13.000000   6.979\n",
       "905      0.0       1.0       0.0  28.414422   3.330\n",
       "1096     0.0       1.0       0.0  50.000000   3.095\n",
       "235      1.0       1.0       0.0  17.000000   1.619\n",
       "1061     1.0       1.0       0.0  47.000000   0.480\n",
       "\n",
       "[1005 rows x 5 columns]"
      ]
     },
     "execution_count": 29,
     "metadata": {},
     "output_type": "execute_result"
    }
   ],
   "source": [
    "xtrain"
   ]
  },
  {
   "cell_type": "markdown",
   "id": "185c8e77",
   "metadata": {},
   "source": [
    "# Model building"
   ]
  },
  {
   "cell_type": "code",
   "execution_count": 23,
   "id": "0d11a2e1",
   "metadata": {
    "ExecuteTime": {
     "end_time": "2023-01-03T10:06:47.759354Z",
     "start_time": "2023-01-03T10:06:47.741656Z"
    }
   },
   "outputs": [],
   "source": [
    "from sklearn.linear_model import LogisticRegression"
   ]
  },
  {
   "cell_type": "code",
   "execution_count": 24,
   "id": "340188e6",
   "metadata": {
    "ExecuteTime": {
     "end_time": "2023-01-03T10:06:51.114913Z",
     "start_time": "2023-01-03T10:06:51.098415Z"
    }
   },
   "outputs": [],
   "source": [
    "lg = LogisticRegression()"
   ]
  },
  {
   "cell_type": "code",
   "execution_count": 30,
   "id": "a3dc1a25",
   "metadata": {
    "ExecuteTime": {
     "end_time": "2023-01-03T10:15:02.275026Z",
     "start_time": "2023-01-03T10:15:02.103506Z"
    }
   },
   "outputs": [],
   "source": [
    "#Train the model\n",
    "lg.fit(xtrain,ytrain)\n",
    "\n",
    "#Prediction\n",
    "ypred = lg.predict(xtest)"
   ]
  },
  {
   "cell_type": "code",
   "execution_count": 31,
   "id": "145188d5",
   "metadata": {
    "ExecuteTime": {
     "end_time": "2023-01-03T10:15:05.009089Z",
     "start_time": "2023-01-03T10:15:04.992189Z"
    }
   },
   "outputs": [
    {
     "data": {
      "text/plain": [
       "335"
      ]
     },
     "execution_count": 31,
     "metadata": {},
     "output_type": "execute_result"
    }
   ],
   "source": [
    "len(xtest)"
   ]
  },
  {
   "cell_type": "code",
   "execution_count": 32,
   "id": "d762f1de",
   "metadata": {
    "ExecuteTime": {
     "end_time": "2023-01-03T10:15:08.262732Z",
     "start_time": "2023-01-03T10:15:08.232263Z"
    }
   },
   "outputs": [
    {
     "data": {
      "text/plain": [
       "array([0, 0, 0, 0, 1, 0, 0, 1, 0, 0, 0, 0, 0, 1, 0, 1, 0, 0, 0, 0, 0, 0,\n",
       "       1, 0, 0, 0, 0, 0, 0, 0, 0, 0, 0, 1, 1, 0, 1, 1, 0, 0, 0, 1, 0, 0,\n",
       "       0, 1, 0, 0, 0, 0, 0, 0, 0, 0, 0, 0, 1, 0, 1, 0, 1, 1, 0, 1, 1, 1,\n",
       "       0, 1, 1, 1, 1, 1, 0, 0, 1, 0, 1, 0, 0, 0, 0, 0, 1, 0, 0, 1, 1, 1,\n",
       "       0, 1, 0, 0, 1, 0, 0, 0, 0, 1, 1, 1, 1, 1, 1, 0, 1, 1, 0, 0, 1, 1,\n",
       "       1, 0, 0, 0, 1, 1, 0, 0, 0, 0, 1, 0, 0, 0, 0, 0, 1, 0, 0, 0, 1, 1,\n",
       "       0, 0, 1, 0, 1, 0, 1, 0, 0, 0, 0, 0, 0, 0, 0, 1, 1, 1, 0, 1, 1, 1,\n",
       "       1, 1, 1, 0, 0, 1, 0, 1, 0, 1, 0, 1, 1, 0, 0, 0, 1, 0, 1, 0, 0, 0,\n",
       "       0, 0, 0, 0, 0, 0, 0, 1, 0, 1, 0, 0, 0, 1, 0, 0, 1, 0, 0, 1, 1, 1,\n",
       "       0, 1, 0, 0, 0, 0, 1, 0, 0, 1, 1, 0, 0, 0, 1, 0, 0, 0, 1, 0, 0, 0,\n",
       "       1, 0, 0, 0, 1, 0, 1, 1, 0, 0, 0, 0, 0, 1, 1, 0, 0, 0, 1, 0, 0, 0,\n",
       "       1, 0, 1, 1, 1, 1, 0, 1, 1, 0, 1, 1, 1, 0, 1, 0, 1, 1, 1, 0, 1, 0,\n",
       "       0, 0, 1, 0, 1, 1, 0, 1, 0, 0, 0, 0, 0, 1, 1, 1, 1, 1, 0, 0, 1, 0,\n",
       "       0, 1, 1, 0, 0, 1, 0, 0, 0, 0, 0, 0, 1, 0, 0, 1, 0, 0, 0, 1, 1, 1,\n",
       "       1, 0, 1, 0, 0, 1, 0, 0, 0, 0, 1, 1, 1, 0, 0, 1, 1, 1, 1, 0, 1, 1,\n",
       "       0, 0, 1, 0, 0], dtype=int64)"
      ]
     },
     "execution_count": 32,
     "metadata": {},
     "output_type": "execute_result"
    }
   ],
   "source": [
    "ypred"
   ]
  },
  {
   "cell_type": "markdown",
   "id": "4de5a9ba",
   "metadata": {},
   "source": [
    "# Model Evaluation"
   ]
  },
  {
   "cell_type": "code",
   "execution_count": 33,
   "id": "a1b304e2",
   "metadata": {
    "ExecuteTime": {
     "end_time": "2023-01-03T10:22:03.039649Z",
     "start_time": "2023-01-03T10:22:03.012512Z"
    }
   },
   "outputs": [
    {
     "name": "stdout",
     "output_type": "stream",
     "text": [
      "Actual Y: [0 0 0 0 1 0 1 1 0 1 1 1 0 1 1 0 1 1 0 0 0 0 1 0 0]\n",
      "Predicted Y: [0 0 0 0 1 0 0 1 0 0 0 0 0 1 0 1 0 0 0 0 0 0 1 0 0]\n"
     ]
    }
   ],
   "source": [
    "print('Actual Y:', ytest[:25].values)\n",
    "print('Predicted Y:', ypred[:25])"
   ]
  },
  {
   "cell_type": "code",
   "execution_count": 34,
   "id": "183d4c54",
   "metadata": {
    "ExecuteTime": {
     "end_time": "2023-01-03T10:23:00.986174Z",
     "start_time": "2023-01-03T10:23:00.970240Z"
    }
   },
   "outputs": [],
   "source": [
    "from sklearn.metrics import classification_report, confusion_matrix"
   ]
  },
  {
   "cell_type": "code",
   "execution_count": 36,
   "id": "8d8bcfe0",
   "metadata": {
    "ExecuteTime": {
     "end_time": "2023-01-03T10:26:00.947183Z",
     "start_time": "2023-01-03T10:26:00.918691Z"
    }
   },
   "outputs": [
    {
     "name": "stdout",
     "output_type": "stream",
     "text": [
      "              precision    recall  f1-score   support\n",
      "\n",
      "           0       0.65      0.78      0.71       169\n",
      "           1       0.71      0.57      0.64       166\n",
      "\n",
      "    accuracy                           0.67       335\n",
      "   macro avg       0.68      0.67      0.67       335\n",
      "weighted avg       0.68      0.67      0.67       335\n",
      "\n"
     ]
    }
   ],
   "source": [
    "print(classification_report(ytest,ypred))"
   ]
  },
  {
   "cell_type": "code",
   "execution_count": 39,
   "id": "799b5b84",
   "metadata": {
    "ExecuteTime": {
     "end_time": "2023-01-03T10:26:29.798173Z",
     "start_time": "2023-01-03T10:26:29.780950Z"
    }
   },
   "outputs": [
    {
     "data": {
      "text/plain": [
       "array([[131,  38],\n",
       "       [ 71,  95]], dtype=int64)"
      ]
     },
     "execution_count": 39,
     "metadata": {},
     "output_type": "execute_result"
    }
   ],
   "source": [
    "(confusion_matrix(ytest,ypred))"
   ]
  },
  {
   "cell_type": "code",
   "execution_count": 52,
   "id": "0351a700",
   "metadata": {
    "ExecuteTime": {
     "end_time": "2023-01-03T10:37:25.646803Z",
     "start_time": "2023-01-03T10:37:25.023357Z"
    }
   },
   "outputs": [
    {
     "data": {
      "text/plain": [
       "Text(240.30555555555557, 0.5, 'Predicted Values')"
      ]
     },
     "execution_count": 52,
     "metadata": {},
     "output_type": "execute_result"
    },
    {
     "data": {
      "image/png": "[encoded data removed]",
      "text/plain": [
       "<Figure size 2500x1250 with 2 Axes>"
      ]
     },
     "metadata": {},
     "output_type": "display_data"
    }
   ],
   "source": [
    "plt.rcParams['figure.dpi'] = 250\n",
    "sns.heatmap(confusion_matrix(ytest,ypred), annot = True)\n",
    "plt.xlabel('Actual Values')\n",
    "plt.ylabel('Predicted Values')"
   ]
  },
  {
   "cell_type": "markdown",
   "id": "4447e23e",
   "metadata": {},
   "source": [
    "# Threshold selection"
   ]
  },
  {
   "cell_type": "code",
   "execution_count": 55,
   "id": "73cb59e4",
   "metadata": {
    "ExecuteTime": {
     "end_time": "2023-01-03T11:59:38.095677Z",
     "start_time": "2023-01-03T11:59:38.068943Z"
    }
   },
   "outputs": [
    {
     "data": {
      "text/plain": [
       "array([0.30452531, 0.31877703, 0.44367414, 0.38921733, 0.59269384,\n",
       "       0.36956317, 0.30038704, 0.54692511, 0.33818035, 0.33127783,\n",
       "       0.44228109, 0.38675009, 0.39055992, 0.59112026, 0.33552674,\n",
       "       0.57245686, 0.43372324, 0.45788059, 0.35447774, 0.33139277,\n",
       "       0.31723268, 0.40883429, 0.62290217, 0.41041013, 0.40151401,\n",
       "       0.36355281, 0.29759251, 0.37764075, 0.39961214, 0.32114247,\n",
       "       0.40983596, 0.3643934 , 0.44023927, 0.73202738, 0.75057933,\n",
       "       0.39110034, 0.64453762, 0.54259562, 0.35093269, 0.30951188,\n",
       "       0.32152608, 0.99986938, 0.49897881, 0.47033417, 0.43391175,\n",
       "       0.60194141, 0.27722799, 0.32353764, 0.37622974, 0.41463054,\n",
       "       0.42522759, 0.32120318, 0.31797751, 0.42228205, 0.45048237,\n",
       "       0.36964963, 0.73649517, 0.34719582, 0.82840481, 0.34623401,\n",
       "       0.57875229, 0.63721819, 0.36956317, 0.91182407, 0.59604453,\n",
       "       0.85704698, 0.3448188 , 0.87716263, 0.53214663, 0.8516612 ,\n",
       "       0.74748072, 0.65094849, 0.3198435 , 0.41479701, 0.63726063,\n",
       "       0.30931394, 0.86023778, 0.33574907, 0.32064069, 0.28843736,\n",
       "       0.32202975, 0.4637594 , 0.66092133, 0.49682849, 0.41730687,\n",
       "       0.50079348, 0.77934514, 0.69817003, 0.30319238, 0.90641378,\n",
       "       0.3621054 , 0.37675616, 0.66656312, 0.3085489 , 0.44204889,\n",
       "       0.34439662, 0.36700803, 0.60880523, 0.62373652, 0.67196998,\n",
       "       0.65568469, 0.59773497, 0.58623377, 0.49077152, 0.57219421,\n",
       "       0.69050359, 0.40764569, 0.28221531, 0.5297742 , 0.74250907,\n",
       "       0.99991219, 0.32289723, 0.40227128, 0.35621753, 0.64279252,\n",
       "       0.58722189, 0.47701077, 0.32051228, 0.33417973, 0.3262391 ,\n",
       "       0.80422438, 0.38584294, 0.35329096, 0.48587396, 0.39829626,\n",
       "       0.3513548 , 0.66868912, 0.39682562, 0.41893198, 0.33395733,\n",
       "       0.959788  , 0.50729088, 0.42236918, 0.34032219, 0.75205229,\n",
       "       0.30220429, 0.90159902, 0.38837446, 0.56384643, 0.35703319,\n",
       "       0.30841126, 0.29984917, 0.41249496, 0.32207395, 0.31797751,\n",
       "       0.36477422, 0.32116792, 0.59789666, 0.80634622, 0.75653791,\n",
       "       0.31717295, 0.74599478, 0.99999999, 0.65076299, 1.        ,\n",
       "       0.75382433, 0.61336854, 0.30980078, 0.407137  , 0.51611752,\n",
       "       0.36557216, 0.7526778 , 0.38185591, 0.97693663, 0.44014191,\n",
       "       0.5543461 , 0.59395673, 0.35876794, 0.30201216, 0.41585591,\n",
       "       0.61430554, 0.39213437, 0.90306562, 0.36428548, 0.43741415,\n",
       "       0.33956415, 0.42338761, 0.38431212, 0.33139277, 0.37784806,\n",
       "       0.4222433 , 0.28363847, 0.40919618, 0.65481725, 0.41597933,\n",
       "       0.66974823, 0.39813407, 0.41404282, 0.34942634, 0.50423492,\n",
       "       0.32739658, 0.32241989, 0.57054572, 0.33367035, 0.35423162,\n",
       "       0.73116688, 0.57028814, 0.74133132, 0.44721729, 0.56035964,\n",
       "       0.42833823, 0.31984292, 0.31500989, 0.32776671, 0.55958645,\n",
       "       0.38140968, 0.28359734, 0.54069257, 0.69687766, 0.48196057,\n",
       "       0.35594469, 0.29385413, 0.89111235, 0.38211086, 0.32550529,\n",
       "       0.45721036, 0.53860734, 0.4213193 , 0.31533154, 0.398194  ,\n",
       "       0.52533484, 0.42756554, 0.42377069, 0.29954326, 0.61865162,\n",
       "       0.35133749, 0.65033467, 0.99997071, 0.37764075, 0.25923337,\n",
       "       0.41538081, 0.43484391, 0.38808055, 0.74126046, 0.71678622,\n",
       "       0.3412533 , 0.30879789, 0.42205042, 0.60396395, 0.44206802,\n",
       "       0.35551724, 0.35257151, 0.51516316, 0.37699484, 0.8563058 ,\n",
       "       0.58555852, 0.51277997, 0.53341617, 0.43164517, 0.59492775,\n",
       "       0.99999998, 0.43539918, 0.66573356, 0.58991005, 0.63663173,\n",
       "       0.49898784, 0.56909525, 0.33593301, 0.57358614, 0.56891173,\n",
       "       0.83963976, 0.38876526, 0.65480891, 0.3579393 , 0.41132288,\n",
       "       0.42580737, 1.        , 0.35208924, 0.57244381, 0.66966166,\n",
       "       0.31628134, 0.5376072 , 0.37868504, 0.49254307, 0.4703771 ,\n",
       "       0.44128818, 0.32975242, 0.75874641, 0.58410655, 0.63238997,\n",
       "       1.        , 0.81651418, 0.36393919, 0.34361863, 0.831285  ,\n",
       "       0.3391579 , 0.36389643, 0.7806272 , 0.6288054 , 0.37898265,\n",
       "       0.46820955, 0.76368107, 0.28740022, 0.29759251, 0.37381347,\n",
       "       0.38008211, 0.31430156, 0.42178832, 1.        , 0.39818654,\n",
       "       0.39567815, 0.69540394, 0.27800194, 0.35430245, 0.43286316,\n",
       "       0.61408674, 0.55137603, 0.8173157 , 0.99999964, 0.48773047,\n",
       "       0.90701854, 0.38839288, 0.41930992, 0.60298293, 0.43516323,\n",
       "       0.43432415, 0.33593814, 0.32138534, 0.98321319, 0.58968767,\n",
       "       0.58878439, 0.31430422, 0.42573562, 0.63642841, 0.76628249,\n",
       "       0.61941853, 0.6991718 , 0.30284552, 1.        , 0.64231766,\n",
       "       0.35749922, 0.28537446, 0.5685665 , 0.37845234, 0.30009102])"
      ]
     },
     "execution_count": 55,
     "metadata": {},
     "output_type": "execute_result"
    }
   ],
   "source": [
    "proba = lg.predict_proba(xtest)[:,1]\n",
    "proba"
   ]
  },
  {
   "cell_type": "code",
   "execution_count": 64,
   "id": "7c1fb0e7",
   "metadata": {
    "ExecuteTime": {
     "end_time": "2023-01-03T12:25:31.306326Z",
     "start_time": "2023-01-03T12:25:31.292936Z"
    }
   },
   "outputs": [],
   "source": [
    "from sklearn.metrics import roc_auc_score, roc_curve, accuracy_score"
   ]
  },
  {
   "cell_type": "code",
   "execution_count": 60,
   "id": "40c1454d",
   "metadata": {
    "ExecuteTime": {
     "end_time": "2023-01-03T12:16:57.292437Z",
     "start_time": "2023-01-03T12:16:56.757758Z"
    }
   },
   "outputs": [
    {
     "data": {
      "text/plain": [
       "<matplotlib.legend.Legend at 0x20101b6ab50>"
      ]
     },
     "execution_count": 60,
     "metadata": {},
     "output_type": "execute_result"
    },
    {
     "data": {
      "image/png": "[encoded data removed]",
      "text/plain": [
       "<Figure size 2500x1250 with 1 Axes>"
      ]
     },
     "metadata": {},
     "output_type": "display_data"
    }
   ],
   "source": [
    "auc = roc_auc_score(ytest, proba)\n",
    "\n",
    "fpr, tpr, threshold = roc_curve(ytest, proba)\n",
    "plt.plot(fpr,tpr, label = '(AUC = %0.2f)' %auc)\n",
    "plt.legend()"
   ]
  },
  {
   "cell_type": "code",
   "execution_count": 62,
   "id": "adca1566",
   "metadata": {
    "ExecuteTime": {
     "end_time": "2023-01-03T12:18:13.627257Z",
     "start_time": "2023-01-03T12:18:13.606882Z"
    }
   },
   "outputs": [
    {
     "data": {
      "text/plain": [
       "array([2.        , 1.        , 0.90701854, 0.90641378, 0.90159902,\n",
       "       0.87716263, 0.86023778, 0.85704698, 0.831285  , 0.8173157 ,\n",
       "       0.76368107, 0.75653791, 0.75057933, 0.74748072, 0.74599478,\n",
       "       0.74250907, 0.73116688, 0.71678622, 0.69687766, 0.69050359,\n",
       "       0.64231766, 0.63663173, 0.6288054 , 0.62373652, 0.61941853,\n",
       "       0.61865162, 0.61336854, 0.60880523, 0.59789666, 0.59492775,\n",
       "       0.59112026, 0.58991005, 0.58878439, 0.58722189, 0.58623377,\n",
       "       0.58555852, 0.57358614, 0.57244381, 0.57219421, 0.57028814,\n",
       "       0.5685665 , 0.56035964, 0.5543461 , 0.55137603, 0.54692511,\n",
       "       0.53860734, 0.53214663, 0.5297742 , 0.52533484, 0.51516316,\n",
       "       0.49898784, 0.49897881, 0.49254307, 0.49077152, 0.44721729,\n",
       "       0.44367414, 0.44206802, 0.43741415, 0.43539918, 0.43432415,\n",
       "       0.43372324, 0.43286316, 0.43164517, 0.42833823, 0.42580737,\n",
       "       0.42522759, 0.42338761, 0.42236918, 0.42228205, 0.41893198,\n",
       "       0.41730687, 0.41479701, 0.41463054, 0.41404282, 0.41132288,\n",
       "       0.40883429, 0.40764569, 0.39961214, 0.39829626, 0.398194  ,\n",
       "       0.39818654, 0.39682562, 0.39567815, 0.38876526, 0.38839288,\n",
       "       0.38808055, 0.38675009, 0.38211086, 0.38140968, 0.38008211,\n",
       "       0.37898265, 0.37868504, 0.37784806, 0.37764075, 0.37675616,\n",
       "       0.37622974, 0.36964963, 0.36956317, 0.36557216, 0.3643934 ,\n",
       "       0.36393919, 0.36355281, 0.3621054 , 0.35876794, 0.3579393 ,\n",
       "       0.35447774, 0.35430245, 0.35257151, 0.35208924, 0.3513548 ,\n",
       "       0.35093269, 0.34719582, 0.34623401, 0.33818035, 0.33593301,\n",
       "       0.33574907, 0.33552674, 0.33417973, 0.33395733, 0.33367035,\n",
       "       0.33139277, 0.33127783, 0.32739658, 0.32550529, 0.32353764,\n",
       "       0.32289723, 0.32207395, 0.32138534, 0.32120318, 0.32116792,\n",
       "       0.31877703, 0.31797751, 0.30980078, 0.30879789, 0.30201216,\n",
       "       0.30038704, 0.29984917, 0.29954326, 0.29759251, 0.25923337])"
      ]
     },
     "execution_count": 62,
     "metadata": {},
     "output_type": "execute_result"
    }
   ],
   "source": [
    "threshold"
   ]
  },
  {
   "cell_type": "code",
   "execution_count": 82,
   "id": "ffed9576",
   "metadata": {
    "ExecuteTime": {
     "end_time": "2023-01-03T12:41:24.093637Z",
     "start_time": "2023-01-03T12:41:24.082051Z"
    }
   },
   "outputs": [
    {
     "data": {
      "text/plain": [
       "140"
      ]
     },
     "execution_count": 82,
     "metadata": {},
     "output_type": "execute_result"
    }
   ],
   "source": [
    "len(threshold)"
   ]
  },
  {
   "cell_type": "code",
   "execution_count": 66,
   "id": "bfc7379f",
   "metadata": {
    "ExecuteTime": {
     "end_time": "2023-01-03T12:28:55.235846Z",
     "start_time": "2023-01-03T12:28:55.149801Z"
    }
   },
   "outputs": [],
   "source": [
    "accuracy = []\n",
    "\n",
    "for i in threshold:\n",
    "    ypred = np.where(proba>i,1,0)\n",
    "    accuracy.append(accuracy_score(ytest, ypred))\n",
    "    \n",
    "final_threshold = pd.concat([pd.Series(threshold), pd.Series(accuracy)], axis = 1)\n",
    "final_threshold.columns = ['Threshold', 'Accuracy']"
   ]
  },
  {
   "cell_type": "code",
   "execution_count": 69,
   "id": "6316e71d",
   "metadata": {
    "ExecuteTime": {
     "end_time": "2023-01-03T12:31:55.776712Z",
     "start_time": "2023-01-03T12:31:55.742366Z"
    }
   },
   "outputs": [
    {
     "data": {
      "text/html": [
       "<div>\n",
       "<style scoped>\n",
       "    .dataframe tbody tr th:only-of-type {\n",
       "        vertical-align: middle;\n",
       "    }\n",
       "\n",
       "    .dataframe tbody tr th {\n",
       "        vertical-align: top;\n",
       "    }\n",
       "\n",
       "    .dataframe thead th {\n",
       "        text-align: right;\n",
       "    }\n",
       "</style>\n",
       "<table border=\"1\" class=\"dataframe\">\n",
       "  <thead>\n",
       "    <tr style=\"text-align: right;\">\n",
       "      <th></th>\n",
       "      <th>Threshold</th>\n",
       "      <th>Accuracy</th>\n",
       "    </tr>\n",
       "  </thead>\n",
       "  <tbody>\n",
       "    <tr>\n",
       "      <th>56</th>\n",
       "      <td>0.442068</td>\n",
       "      <td>0.713433</td>\n",
       "    </tr>\n",
       "    <tr>\n",
       "      <th>55</th>\n",
       "      <td>0.443674</td>\n",
       "      <td>0.713433</td>\n",
       "    </tr>\n",
       "    <tr>\n",
       "      <th>54</th>\n",
       "      <td>0.447217</td>\n",
       "      <td>0.710448</td>\n",
       "    </tr>\n",
       "    <tr>\n",
       "      <th>67</th>\n",
       "      <td>0.422369</td>\n",
       "      <td>0.704478</td>\n",
       "    </tr>\n",
       "    <tr>\n",
       "      <th>57</th>\n",
       "      <td>0.437414</td>\n",
       "      <td>0.704478</td>\n",
       "    </tr>\n",
       "    <tr>\n",
       "      <th>...</th>\n",
       "      <td>...</td>\n",
       "      <td>...</td>\n",
       "    </tr>\n",
       "    <tr>\n",
       "      <th>136</th>\n",
       "      <td>0.299849</td>\n",
       "      <td>0.531343</td>\n",
       "    </tr>\n",
       "    <tr>\n",
       "      <th>137</th>\n",
       "      <td>0.299543</td>\n",
       "      <td>0.528358</td>\n",
       "    </tr>\n",
       "    <tr>\n",
       "      <th>0</th>\n",
       "      <td>2.000000</td>\n",
       "      <td>0.504478</td>\n",
       "    </tr>\n",
       "    <tr>\n",
       "      <th>1</th>\n",
       "      <td>1.000000</td>\n",
       "      <td>0.504478</td>\n",
       "    </tr>\n",
       "    <tr>\n",
       "      <th>139</th>\n",
       "      <td>0.259233</td>\n",
       "      <td>0.498507</td>\n",
       "    </tr>\n",
       "  </tbody>\n",
       "</table>\n",
       "<p>140 rows × 2 columns</p>\n",
       "</div>"
      ],
      "text/plain": [
       "     Threshold  Accuracy\n",
       "56    0.442068  0.713433\n",
       "55    0.443674  0.713433\n",
       "54    0.447217  0.710448\n",
       "67    0.422369  0.704478\n",
       "57    0.437414  0.704478\n",
       "..         ...       ...\n",
       "136   0.299849  0.531343\n",
       "137   0.299543  0.528358\n",
       "0     2.000000  0.504478\n",
       "1     1.000000  0.504478\n",
       "139   0.259233  0.498507\n",
       "\n",
       "[140 rows x 2 columns]"
      ]
     },
     "execution_count": 69,
     "metadata": {},
     "output_type": "execute_result"
    }
   ],
   "source": [
    "final_threshold.sort_values(by = 'Accuracy', ascending = False)"
   ]
  },
  {
   "cell_type": "code",
   "execution_count": 71,
   "id": "6cbfb97a",
   "metadata": {
    "ExecuteTime": {
     "end_time": "2023-01-03T12:33:16.556013Z",
     "start_time": "2023-01-03T12:33:16.536816Z"
    }
   },
   "outputs": [],
   "source": [
    "from sklearn.preprocessing import binarize"
   ]
  },
  {
   "cell_type": "code",
   "execution_count": 80,
   "id": "ef320706",
   "metadata": {
    "ExecuteTime": {
     "end_time": "2023-01-03T12:38:18.603877Z",
     "start_time": "2023-01-03T12:38:18.576814Z"
    }
   },
   "outputs": [
    {
     "data": {
      "text/plain": [
       "array([0., 0., 1., 0., 1., 0., 0., 1., 0., 0., 1., 0., 0., 1., 0., 1., 0.,\n",
       "       1., 0., 0., 0., 0., 1., 0., 0., 0., 0., 0., 0., 0., 0., 0., 0., 1.,\n",
       "       1., 0., 1., 1., 0., 0., 0., 1., 1., 1., 0., 1., 0., 0., 0., 0., 0.,\n",
       "       0., 0., 0., 1., 0., 1., 0., 1., 0., 1., 1., 0., 1., 1., 1., 0., 1.,\n",
       "       1., 1., 1., 1., 0., 0., 1., 0., 1., 0., 0., 0., 0., 1., 1., 1., 0.,\n",
       "       1., 1., 1., 0., 1., 0., 0., 1., 0., 0., 0., 0., 1., 1., 1., 1., 1.,\n",
       "       1., 1., 1., 1., 0., 0., 1., 1., 1., 0., 0., 0., 1., 1., 1., 0., 0.,\n",
       "       0., 1., 0., 0., 1., 0., 0., 1., 0., 0., 0., 1., 1., 0., 0., 1., 0.,\n",
       "       1., 0., 1., 0., 0., 0., 0., 0., 0., 0., 0., 1., 1., 1., 0., 1., 1.,\n",
       "       1., 1., 1., 1., 0., 0., 1., 0., 1., 0., 1., 0., 1., 1., 0., 0., 0.,\n",
       "       1., 0., 1., 0., 0., 0., 0., 0., 0., 0., 0., 0., 0., 1., 0., 1., 0.,\n",
       "       0., 0., 1., 0., 0., 1., 0., 0., 1., 1., 1., 1., 1., 0., 0., 0., 0.,\n",
       "       1., 0., 0., 1., 1., 1., 0., 0., 1., 0., 0., 1., 1., 0., 0., 0., 1.,\n",
       "       0., 0., 0., 1., 0., 1., 1., 0., 0., 0., 0., 0., 1., 1., 0., 0., 0.,\n",
       "       1., 1., 0., 0., 1., 0., 1., 1., 1., 1., 0., 1., 1., 0., 1., 1., 1.,\n",
       "       1., 1., 0., 1., 1., 1., 0., 1., 0., 0., 0., 1., 0., 1., 1., 0., 1.,\n",
       "       0., 1., 1., 0., 0., 1., 1., 1., 1., 1., 0., 0., 1., 0., 0., 1., 1.,\n",
       "       0., 1., 1., 0., 0., 0., 0., 0., 0., 1., 0., 0., 1., 0., 0., 0., 1.,\n",
       "       1., 1., 1., 1., 1., 0., 0., 1., 0., 0., 0., 0., 1., 1., 1., 0., 0.,\n",
       "       1., 1., 1., 1., 0., 1., 1., 0., 0., 1., 0., 0.])"
      ]
     },
     "execution_count": 80,
     "metadata": {},
     "output_type": "execute_result"
    }
   ],
   "source": [
    "y = binarize([proba], threshold = 0.442068)[0]\n",
    "y"
   ]
  },
  {
   "cell_type": "code",
   "execution_count": 83,
   "id": "5e7ac6da",
   "metadata": {
    "ExecuteTime": {
     "end_time": "2023-01-03T12:41:44.443289Z",
     "start_time": "2023-01-03T12:41:44.424507Z"
    }
   },
   "outputs": [
    {
     "name": "stdout",
     "output_type": "stream",
     "text": [
      "              precision    recall  f1-score   support\n",
      "\n",
      "           0       0.70      0.76      0.73       169\n",
      "           1       0.73      0.67      0.70       166\n",
      "\n",
      "    accuracy                           0.72       335\n",
      "   macro avg       0.72      0.72      0.72       335\n",
      "weighted avg       0.72      0.72      0.72       335\n",
      "\n"
     ]
    }
   ],
   "source": [
    "print(classification_report(ytest, y))"
   ]
  }
 ],
 "metadata": {
  "kernelspec": {
   "display_name": "Python 3 (ipykernel)",
   "language": "python",
   "name": "python3"
  },
  "language_info": {
   "codemirror_mode": {
    "name": "ipython",
    "version": 3
   },
   "file_extension": ".py",
   "mimetype": "text/x-python",
   "name": "python",
   "nbconvert_exporter": "python",
   "pygments_lexer": "ipython3",
   "version": "3.9.13"
  }
 },
 "nbformat": 4,
 "nbformat_minor": 5
}
